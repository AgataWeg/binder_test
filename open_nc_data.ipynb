{
 "cells": [
  {
   "cell_type": "code",
   "execution_count": null,
   "metadata": {},
   "outputs": [],
   "source": [
    "import requests\n",
    "import io\n",
    "import xarray as xr"
   ]
  },
  {
   "cell_type": "code",
   "execution_count": null,
   "metadata": {},
   "outputs": [],
   "source": [
    "metadata_url = 'https://dataverse.nioz.nl/api/access/datafile/:persistentId?persistentId=doi:10.25850/nioz/7b.b.n/51IQKH'\n",
    "response = requests.get(metadata_url)\n",
    "print(response.status_code)\n",
    "\n",
    "# Check if the request was successful\n",
    "if response.status_code == 200:\n",
    "    print('Success!')\n",
    "\n",
    "    # Use io.BytesIO to create a file-like object from the response\n",
    "    file_like = io.BytesIO(response.content)\n",
    "\n",
    "    # Open the NetCDF data\n",
    "    ds = xr.open_dataset(file_like)\n",
    "\n",
    "    # Access the dataset\n",
    "    print(ds)\n",
    "    ds.close()"
   ]
  }
 ],
 "metadata": {
  "language_info": {
   "name": "python"
  }
 },
 "nbformat": 4,
 "nbformat_minor": 2
}
